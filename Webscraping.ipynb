{
  "nbformat": 4,
  "nbformat_minor": 0,
  "metadata": {
    "colab": {
      "provenance": []
    },
    "kernelspec": {
      "name": "python3",
      "display_name": "Python 3"
    },
    "language_info": {
      "name": "python"
    }
  },
  "cells": [
    {
      "cell_type": "code",
      "source": [
        "\n",
        "def scrollValidPagesList():\n",
        "  listofpages=[]\n",
        "  i=1\n",
        "  while True:\n",
        "    url=f\"https://books.toscrape.com/catalogue/page-{i}.html\"\n",
        "    response=requests.get(url)\n",
        "    if response.status_code!=200:\n",
        "        break\n",
        "    listofpages.append(url)\n",
        "    i+=1\n",
        "  return listofpages\n"
      ],
      "metadata": {
        "id": "fPrL-zFEfHDD"
      },
      "execution_count": null,
      "outputs": []
    },
    {
      "cell_type": "code",
      "source": [
        "def function(urlPages):\n",
        "  baseurl=\"https://books.toscrape.com/catalogue/\"\n",
        "  bookurls=[]\n",
        "  for urlpage in urlPages:\n",
        "    book_url=BeautifulSoup(markup=requests.get(urlpage).content,parser=\"html.parser\")\n",
        "    books_component=book_url.find_all(name=\"li\",class_=\"col-xs-6 col-sm-4 col-md-3 col-lg-3\")\n",
        "\n",
        "    for book in books_component:\n",
        "      book_url=book.find(\"a\").get(\"href\")\n",
        "      bookurl=urljoin(baseurl,book_url)\n",
        "      bookurls.append(bookurl)\n",
        "  return bookurls\n"
      ],
      "metadata": {
        "id": "eBQQNGFDg53Z"
      },
      "execution_count": null,
      "outputs": []
    },
    {
      "cell_type": "code",
      "source": [
        "def fetchBookDetails(bookurls):\n",
        "  booksinfo=[]\n",
        "\n",
        "  for bookurl in bookurls:\n",
        "\n",
        "    response=requests.get(bookurl)\n",
        "    soup=BeautifulSoup(markup=response.content,parser=\"html.parser\")\n",
        "    bookinfo={}\n",
        "    bookinfo[\"title\"]=book_title=soup.find(name=\"h1\").getText()\n",
        "    for row in soup.find_all(\"tr\"):\n",
        "      key=row.find(\"th\").getText()\n",
        "      value=row.find(\"td\").getText()\n",
        "      bookinfo[key]=value\n",
        "    booksinfo.append(bookinfo)\n",
        "  return booksinfo"
      ],
      "metadata": {
        "id": "8elR_KbbkLQh"
      },
      "execution_count": null,
      "outputs": []
    },
    {
      "cell_type": "code",
      "source": [],
      "metadata": {
        "id": "vg07Bq4blN3J"
      },
      "execution_count": null,
      "outputs": []
    },
    {
      "cell_type": "code",
      "execution_count": null,
      "metadata": {
        "id": "zsq4j1vleK46"
      },
      "outputs": [],
      "source": [
        "from pprint import pprint\n",
        "import requests\n",
        "from bs4 import BeautifulSoup\n",
        "from urllib.parse import urljoin\n",
        "import pandas as pd\n",
        "\n",
        "def getInfo():\n",
        "  urlPages=scrollValidPagesList()\n",
        "  pd.DataFrame(urlPages).to_csv(\"urls.csv\")\n",
        "  bookurls=function(urlPages)\n",
        "  pd.DataFrame(bookurls).to_csv(\"bookurls.csv\")\n",
        "  data=fetchBookDetails(bookurls)\n",
        "\n",
        "  df=pd.DataFrame(data)\n",
        "  df.to_excel(\"books.xlsx\")\n",
        "\n",
        "\n",
        "getInfo()\n",
        "\n",
        "\n"
      ]
    },
    {
      "cell_type": "code",
      "source": [],
      "metadata": {
        "id": "OTTYtRUpeTRk"
      },
      "execution_count": null,
      "outputs": []
    }
  ]
}